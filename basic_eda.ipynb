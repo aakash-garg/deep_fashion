{
 "cells": [
  {
   "cell_type": "code",
   "execution_count": 1,
   "id": "2d11e031-ddd6-42d4-bd8a-2886cb8971f2",
   "metadata": {},
   "outputs": [],
   "source": [
    "import pandas as pd\n",
    "import numpy\n",
    "import os"
   ]
  },
  {
   "cell_type": "code",
   "execution_count": 2,
   "id": "ddf9c82b-03d8-4cbc-8097-eed5f4d03242",
   "metadata": {},
   "outputs": [],
   "source": [
    "src = 'data'\n",
    "img_src = 'data/images'"
   ]
  },
  {
   "cell_type": "code",
   "execution_count": 3,
   "id": "85a0d38a-fffd-433d-a27e-70ff7e3d1cf1",
   "metadata": {},
   "outputs": [],
   "source": [
    "df = pd.read_csv(os.path.join(src, 'attributes.csv'))"
   ]
  },
  {
   "cell_type": "code",
   "execution_count": 4,
   "id": "63f391b9-38fc-4024-8b4c-d1d83076afab",
   "metadata": {},
   "outputs": [
    {
     "data": {
      "text/html": [
       "<div>\n",
       "<style scoped>\n",
       "    .dataframe tbody tr th:only-of-type {\n",
       "        vertical-align: middle;\n",
       "    }\n",
       "\n",
       "    .dataframe tbody tr th {\n",
       "        vertical-align: top;\n",
       "    }\n",
       "\n",
       "    .dataframe thead th {\n",
       "        text-align: right;\n",
       "    }\n",
       "</style>\n",
       "<table border=\"1\" class=\"dataframe\">\n",
       "  <thead>\n",
       "    <tr style=\"text-align: right;\">\n",
       "      <th></th>\n",
       "      <th>filename</th>\n",
       "      <th>neck</th>\n",
       "      <th>sleeve_length</th>\n",
       "      <th>pattern</th>\n",
       "    </tr>\n",
       "  </thead>\n",
       "  <tbody>\n",
       "    <tr>\n",
       "      <th>0</th>\n",
       "      <td>cdc8cd2a-0938-4970-a3b5-f5ed9595222c1527925869...</td>\n",
       "      <td>6.0</td>\n",
       "      <td>NaN</td>\n",
       "      <td>4.0</td>\n",
       "    </tr>\n",
       "    <tr>\n",
       "      <th>1</th>\n",
       "      <td>11469770662809-Metersbonwe-Navy-T-shirt-485146...</td>\n",
       "      <td>5.0</td>\n",
       "      <td>3.0</td>\n",
       "      <td>9.0</td>\n",
       "    </tr>\n",
       "    <tr>\n",
       "      <th>2</th>\n",
       "      <td>11479107741104-Tommy-Hilfiger-Men-Navy-Blue-St...</td>\n",
       "      <td>6.0</td>\n",
       "      <td>1.0</td>\n",
       "      <td>9.0</td>\n",
       "    </tr>\n",
       "    <tr>\n",
       "      <th>3</th>\n",
       "      <td>f7ad67ab-eeb1-4449-8f63-7b580d2797e71532342804...</td>\n",
       "      <td>NaN</td>\n",
       "      <td>0.0</td>\n",
       "      <td>9.0</td>\n",
       "    </tr>\n",
       "    <tr>\n",
       "      <th>4</th>\n",
       "      <td>11516770810185-Splash-Men-Tshirts-767151677081...</td>\n",
       "      <td>6.0</td>\n",
       "      <td>3.0</td>\n",
       "      <td>9.0</td>\n",
       "    </tr>\n",
       "  </tbody>\n",
       "</table>\n",
       "</div>"
      ],
      "text/plain": [
       "                                            filename  neck  sleeve_length  \\\n",
       "0  cdc8cd2a-0938-4970-a3b5-f5ed9595222c1527925869...   6.0            NaN   \n",
       "1  11469770662809-Metersbonwe-Navy-T-shirt-485146...   5.0            3.0   \n",
       "2  11479107741104-Tommy-Hilfiger-Men-Navy-Blue-St...   6.0            1.0   \n",
       "3  f7ad67ab-eeb1-4449-8f63-7b580d2797e71532342804...   NaN            0.0   \n",
       "4  11516770810185-Splash-Men-Tshirts-767151677081...   6.0            3.0   \n",
       "\n",
       "   pattern  \n",
       "0      4.0  \n",
       "1      9.0  \n",
       "2      9.0  \n",
       "3      9.0  \n",
       "4      9.0  "
      ]
     },
     "execution_count": 4,
     "metadata": {},
     "output_type": "execute_result"
    }
   ],
   "source": [
    "df.head()"
   ]
  },
  {
   "cell_type": "code",
   "execution_count": 5,
   "id": "d2b65543-61fc-4090-af8b-899a0d6cfa58",
   "metadata": {},
   "outputs": [
    {
     "data": {
      "text/plain": [
       "2238"
      ]
     },
     "execution_count": 5,
     "metadata": {},
     "output_type": "execute_result"
    }
   ],
   "source": [
    "len(df)"
   ]
  },
  {
   "cell_type": "code",
   "execution_count": 6,
   "id": "cbb63ff0-c986-4fc3-954f-35a8d3eaaff9",
   "metadata": {},
   "outputs": [],
   "source": [
    "def check_file_present(filename):\n",
    "    return (os.path.exists(os.path.join(img_src, filename)))\n",
    "\n",
    "df['file_present'] = df.apply(lambda row: check_file_present(row.filename), axis=1)\n",
    "df = df[df['file_present'] == True].reset_index(drop=True)"
   ]
  },
  {
   "cell_type": "code",
   "execution_count": 7,
   "id": "0b9c862d-fa36-47e6-853d-8e80a27348e2",
   "metadata": {},
   "outputs": [
    {
     "data": {
      "text/html": [
       "<div>\n",
       "<style scoped>\n",
       "    .dataframe tbody tr th:only-of-type {\n",
       "        vertical-align: middle;\n",
       "    }\n",
       "\n",
       "    .dataframe tbody tr th {\n",
       "        vertical-align: top;\n",
       "    }\n",
       "\n",
       "    .dataframe thead th {\n",
       "        text-align: right;\n",
       "    }\n",
       "</style>\n",
       "<table border=\"1\" class=\"dataframe\">\n",
       "  <thead>\n",
       "    <tr style=\"text-align: right;\">\n",
       "      <th></th>\n",
       "      <th>filename</th>\n",
       "      <th>neck</th>\n",
       "      <th>sleeve_length</th>\n",
       "      <th>pattern</th>\n",
       "      <th>file_present</th>\n",
       "    </tr>\n",
       "  </thead>\n",
       "  <tbody>\n",
       "    <tr>\n",
       "      <th>0</th>\n",
       "      <td>cdc8cd2a-0938-4970-a3b5-f5ed9595222c1527925869...</td>\n",
       "      <td>6.0</td>\n",
       "      <td>NaN</td>\n",
       "      <td>4.0</td>\n",
       "      <td>True</td>\n",
       "    </tr>\n",
       "    <tr>\n",
       "      <th>1</th>\n",
       "      <td>11469770662809-Metersbonwe-Navy-T-shirt-485146...</td>\n",
       "      <td>5.0</td>\n",
       "      <td>3.0</td>\n",
       "      <td>9.0</td>\n",
       "      <td>True</td>\n",
       "    </tr>\n",
       "    <tr>\n",
       "      <th>2</th>\n",
       "      <td>f7ad67ab-eeb1-4449-8f63-7b580d2797e71532342804...</td>\n",
       "      <td>NaN</td>\n",
       "      <td>0.0</td>\n",
       "      <td>9.0</td>\n",
       "      <td>True</td>\n",
       "    </tr>\n",
       "    <tr>\n",
       "      <th>3</th>\n",
       "      <td>11516770810185-Splash-Men-Tshirts-767151677081...</td>\n",
       "      <td>6.0</td>\n",
       "      <td>3.0</td>\n",
       "      <td>9.0</td>\n",
       "      <td>True</td>\n",
       "    </tr>\n",
       "    <tr>\n",
       "      <th>4</th>\n",
       "      <td>11505295751483-FOREVER-21-Men-White-Self-Desig...</td>\n",
       "      <td>1.0</td>\n",
       "      <td>3.0</td>\n",
       "      <td>NaN</td>\n",
       "      <td>True</td>\n",
       "    </tr>\n",
       "    <tr>\n",
       "      <th>...</th>\n",
       "      <td>...</td>\n",
       "      <td>...</td>\n",
       "      <td>...</td>\n",
       "      <td>...</td>\n",
       "      <td>...</td>\n",
       "    </tr>\n",
       "    <tr>\n",
       "      <th>1792</th>\n",
       "      <td>11503030359861-Blackberrys-Men-Black-Solid-Man...</td>\n",
       "      <td>2.0</td>\n",
       "      <td>3.0</td>\n",
       "      <td>9.0</td>\n",
       "      <td>True</td>\n",
       "    </tr>\n",
       "    <tr>\n",
       "      <th>1793</th>\n",
       "      <td>11495782729779-Roadster-Men-Black-Printed-V-Ne...</td>\n",
       "      <td>5.0</td>\n",
       "      <td>3.0</td>\n",
       "      <td>9.0</td>\n",
       "      <td>True</td>\n",
       "    </tr>\n",
       "    <tr>\n",
       "      <th>1794</th>\n",
       "      <td>11507360109998-Nautica-Men-Blue-Striped-V-Neck...</td>\n",
       "      <td>5.0</td>\n",
       "      <td>3.0</td>\n",
       "      <td>9.0</td>\n",
       "      <td>True</td>\n",
       "    </tr>\n",
       "    <tr>\n",
       "      <th>1795</th>\n",
       "      <td>8f236dcd-4a2b-49ff-9229-981e7db946f91537273774...</td>\n",
       "      <td>6.0</td>\n",
       "      <td>NaN</td>\n",
       "      <td>5.0</td>\n",
       "      <td>True</td>\n",
       "    </tr>\n",
       "    <tr>\n",
       "      <th>1796</th>\n",
       "      <td>4654fc4c-76ca-43e0-b6ff-91615995d32b1527167420...</td>\n",
       "      <td>2.0</td>\n",
       "      <td>3.0</td>\n",
       "      <td>9.0</td>\n",
       "      <td>True</td>\n",
       "    </tr>\n",
       "  </tbody>\n",
       "</table>\n",
       "<p>1797 rows × 5 columns</p>\n",
       "</div>"
      ],
      "text/plain": [
       "                                               filename  neck  sleeve_length  \\\n",
       "0     cdc8cd2a-0938-4970-a3b5-f5ed9595222c1527925869...   6.0            NaN   \n",
       "1     11469770662809-Metersbonwe-Navy-T-shirt-485146...   5.0            3.0   \n",
       "2     f7ad67ab-eeb1-4449-8f63-7b580d2797e71532342804...   NaN            0.0   \n",
       "3     11516770810185-Splash-Men-Tshirts-767151677081...   6.0            3.0   \n",
       "4     11505295751483-FOREVER-21-Men-White-Self-Desig...   1.0            3.0   \n",
       "...                                                 ...   ...            ...   \n",
       "1792  11503030359861-Blackberrys-Men-Black-Solid-Man...   2.0            3.0   \n",
       "1793  11495782729779-Roadster-Men-Black-Printed-V-Ne...   5.0            3.0   \n",
       "1794  11507360109998-Nautica-Men-Blue-Striped-V-Neck...   5.0            3.0   \n",
       "1795  8f236dcd-4a2b-49ff-9229-981e7db946f91537273774...   6.0            NaN   \n",
       "1796  4654fc4c-76ca-43e0-b6ff-91615995d32b1527167420...   2.0            3.0   \n",
       "\n",
       "      pattern  file_present  \n",
       "0         4.0          True  \n",
       "1         9.0          True  \n",
       "2         9.0          True  \n",
       "3         9.0          True  \n",
       "4         NaN          True  \n",
       "...       ...           ...  \n",
       "1792      9.0          True  \n",
       "1793      9.0          True  \n",
       "1794      9.0          True  \n",
       "1795      5.0          True  \n",
       "1796      9.0          True  \n",
       "\n",
       "[1797 rows x 5 columns]"
      ]
     },
     "execution_count": 7,
     "metadata": {},
     "output_type": "execute_result"
    }
   ],
   "source": [
    "df"
   ]
  },
  {
   "cell_type": "code",
   "execution_count": 8,
   "id": "da926e6d-47db-449b-a8a8-be4a4cdd59e2",
   "metadata": {},
   "outputs": [],
   "source": [
    "df.drop_duplicates(subset =\"filename\", keep = False, inplace = True)\n",
    "del df['file_present']"
   ]
  },
  {
   "cell_type": "code",
   "execution_count": 9,
   "id": "9a7a7fde-63ed-4b68-9cd4-7672c9df61a9",
   "metadata": {},
   "outputs": [],
   "source": [
    "df = df.reset_index(drop=True)"
   ]
  },
  {
   "cell_type": "code",
   "execution_count": 10,
   "id": "47093ea5-ee2e-4b5e-813c-627332252737",
   "metadata": {},
   "outputs": [
    {
     "data": {
      "text/html": [
       "<div>\n",
       "<style scoped>\n",
       "    .dataframe tbody tr th:only-of-type {\n",
       "        vertical-align: middle;\n",
       "    }\n",
       "\n",
       "    .dataframe tbody tr th {\n",
       "        vertical-align: top;\n",
       "    }\n",
       "\n",
       "    .dataframe thead th {\n",
       "        text-align: right;\n",
       "    }\n",
       "</style>\n",
       "<table border=\"1\" class=\"dataframe\">\n",
       "  <thead>\n",
       "    <tr style=\"text-align: right;\">\n",
       "      <th></th>\n",
       "      <th>filename</th>\n",
       "      <th>neck</th>\n",
       "      <th>sleeve_length</th>\n",
       "      <th>pattern</th>\n",
       "    </tr>\n",
       "  </thead>\n",
       "  <tbody>\n",
       "    <tr>\n",
       "      <th>0</th>\n",
       "      <td>cdc8cd2a-0938-4970-a3b5-f5ed9595222c1527925869...</td>\n",
       "      <td>6.0</td>\n",
       "      <td>NaN</td>\n",
       "      <td>4.0</td>\n",
       "    </tr>\n",
       "    <tr>\n",
       "      <th>1</th>\n",
       "      <td>11469770662809-Metersbonwe-Navy-T-shirt-485146...</td>\n",
       "      <td>5.0</td>\n",
       "      <td>3.0</td>\n",
       "      <td>9.0</td>\n",
       "    </tr>\n",
       "    <tr>\n",
       "      <th>2</th>\n",
       "      <td>f7ad67ab-eeb1-4449-8f63-7b580d2797e71532342804...</td>\n",
       "      <td>NaN</td>\n",
       "      <td>0.0</td>\n",
       "      <td>9.0</td>\n",
       "    </tr>\n",
       "    <tr>\n",
       "      <th>3</th>\n",
       "      <td>11516770810185-Splash-Men-Tshirts-767151677081...</td>\n",
       "      <td>6.0</td>\n",
       "      <td>3.0</td>\n",
       "      <td>9.0</td>\n",
       "    </tr>\n",
       "    <tr>\n",
       "      <th>4</th>\n",
       "      <td>11505295751483-FOREVER-21-Men-White-Self-Desig...</td>\n",
       "      <td>1.0</td>\n",
       "      <td>3.0</td>\n",
       "      <td>NaN</td>\n",
       "    </tr>\n",
       "    <tr>\n",
       "      <th>...</th>\n",
       "      <td>...</td>\n",
       "      <td>...</td>\n",
       "      <td>...</td>\n",
       "      <td>...</td>\n",
       "    </tr>\n",
       "    <tr>\n",
       "      <th>1763</th>\n",
       "      <td>11503030359861-Blackberrys-Men-Black-Solid-Man...</td>\n",
       "      <td>2.0</td>\n",
       "      <td>3.0</td>\n",
       "      <td>9.0</td>\n",
       "    </tr>\n",
       "    <tr>\n",
       "      <th>1764</th>\n",
       "      <td>11495782729779-Roadster-Men-Black-Printed-V-Ne...</td>\n",
       "      <td>5.0</td>\n",
       "      <td>3.0</td>\n",
       "      <td>9.0</td>\n",
       "    </tr>\n",
       "    <tr>\n",
       "      <th>1765</th>\n",
       "      <td>11507360109998-Nautica-Men-Blue-Striped-V-Neck...</td>\n",
       "      <td>5.0</td>\n",
       "      <td>3.0</td>\n",
       "      <td>9.0</td>\n",
       "    </tr>\n",
       "    <tr>\n",
       "      <th>1766</th>\n",
       "      <td>8f236dcd-4a2b-49ff-9229-981e7db946f91537273774...</td>\n",
       "      <td>6.0</td>\n",
       "      <td>NaN</td>\n",
       "      <td>5.0</td>\n",
       "    </tr>\n",
       "    <tr>\n",
       "      <th>1767</th>\n",
       "      <td>4654fc4c-76ca-43e0-b6ff-91615995d32b1527167420...</td>\n",
       "      <td>2.0</td>\n",
       "      <td>3.0</td>\n",
       "      <td>9.0</td>\n",
       "    </tr>\n",
       "  </tbody>\n",
       "</table>\n",
       "<p>1768 rows × 4 columns</p>\n",
       "</div>"
      ],
      "text/plain": [
       "                                               filename  neck  sleeve_length  \\\n",
       "0     cdc8cd2a-0938-4970-a3b5-f5ed9595222c1527925869...   6.0            NaN   \n",
       "1     11469770662809-Metersbonwe-Navy-T-shirt-485146...   5.0            3.0   \n",
       "2     f7ad67ab-eeb1-4449-8f63-7b580d2797e71532342804...   NaN            0.0   \n",
       "3     11516770810185-Splash-Men-Tshirts-767151677081...   6.0            3.0   \n",
       "4     11505295751483-FOREVER-21-Men-White-Self-Desig...   1.0            3.0   \n",
       "...                                                 ...   ...            ...   \n",
       "1763  11503030359861-Blackberrys-Men-Black-Solid-Man...   2.0            3.0   \n",
       "1764  11495782729779-Roadster-Men-Black-Printed-V-Ne...   5.0            3.0   \n",
       "1765  11507360109998-Nautica-Men-Blue-Striped-V-Neck...   5.0            3.0   \n",
       "1766  8f236dcd-4a2b-49ff-9229-981e7db946f91537273774...   6.0            NaN   \n",
       "1767  4654fc4c-76ca-43e0-b6ff-91615995d32b1527167420...   2.0            3.0   \n",
       "\n",
       "      pattern  \n",
       "0         4.0  \n",
       "1         9.0  \n",
       "2         9.0  \n",
       "3         9.0  \n",
       "4         NaN  \n",
       "...       ...  \n",
       "1763      9.0  \n",
       "1764      9.0  \n",
       "1765      9.0  \n",
       "1766      5.0  \n",
       "1767      9.0  \n",
       "\n",
       "[1768 rows x 4 columns]"
      ]
     },
     "execution_count": 10,
     "metadata": {},
     "output_type": "execute_result"
    }
   ],
   "source": [
    "df"
   ]
  },
  {
   "cell_type": "code",
   "execution_count": 11,
   "id": "249cfc50-e9fe-438c-a4c0-769ef8422f10",
   "metadata": {},
   "outputs": [],
   "source": [
    "df.to_csv('attributes_clean.csv', index=False)"
   ]
  },
  {
   "cell_type": "code",
   "execution_count": 12,
   "id": "9bbb8249-f65b-4a7e-9ebf-cd18e386db8b",
   "metadata": {},
   "outputs": [],
   "source": [
    "df['neck'] = df['neck'].fillna(7.0)\n",
    "df['sleeve_length'] = df['sleeve_length'].fillna(4.0)\n",
    "df['pattern'] = df['pattern'].fillna(10.0)"
   ]
  },
  {
   "cell_type": "code",
   "execution_count": 13,
   "id": "c64b223f-b2c7-4506-bc0c-b776131b46f6",
   "metadata": {},
   "outputs": [
    {
     "name": "stdout",
     "output_type": "stream",
     "text": [
      "[6. 5. 7. 1. 4. 0. 2. 3.] 8\n",
      "[4. 3. 0. 1. 2.] 5\n",
      "[ 4.  9. 10.  8.  3.  6.  7.  1.  2.  0.  5.] 11\n"
     ]
    }
   ],
   "source": [
    "print(df['neck'].unique(), len(df['neck'].unique()))\n",
    "print(df['sleeve_length'].unique(), len(df['sleeve_length'].unique()))\n",
    "print(df['pattern'].unique(), len(df['pattern'].unique()))"
   ]
  },
  {
   "cell_type": "code",
   "execution_count": null,
   "id": "ad4dc852-609c-4cec-90a7-94e05f81446b",
   "metadata": {},
   "outputs": [],
   "source": []
  },
  {
   "cell_type": "code",
   "execution_count": 14,
   "id": "194db6b1-bdad-4f0e-9cb0-1660f4c7d6d8",
   "metadata": {},
   "outputs": [
    {
     "name": "stdout",
     "output_type": "stream",
     "text": [
      "6.0    804\n",
      "7.0    367\n",
      "1.0    109\n",
      "4.0    109\n",
      "5.0    100\n",
      "2.0     97\n",
      "3.0     93\n",
      "0.0     89\n",
      "Name: neck, dtype: int64\n",
      "3.0    1090\n",
      "4.0     357\n",
      "2.0     114\n",
      "1.0     108\n",
      "0.0      99\n",
      "Name: sleeve_length, dtype: int64\n",
      "9.0     1151\n",
      "10.0     352\n",
      "6.0       43\n",
      "3.0       38\n",
      "4.0       33\n",
      "5.0       31\n",
      "1.0       28\n",
      "8.0       26\n",
      "7.0       24\n",
      "2.0       24\n",
      "0.0       18\n",
      "Name: pattern, dtype: int64\n"
     ]
    }
   ],
   "source": [
    "print(df['neck'].value_counts())\n",
    "print(df['sleeve_length'].value_counts())\n",
    "print(df['pattern'].value_counts())"
   ]
  },
  {
   "cell_type": "code",
   "execution_count": 15,
   "id": "8f0b8d8f-bab1-4c75-8877-410adfba8627",
   "metadata": {},
   "outputs": [
    {
     "data": {
      "text/html": [
       "<div>\n",
       "<style scoped>\n",
       "    .dataframe tbody tr th:only-of-type {\n",
       "        vertical-align: middle;\n",
       "    }\n",
       "\n",
       "    .dataframe tbody tr th {\n",
       "        vertical-align: top;\n",
       "    }\n",
       "\n",
       "    .dataframe thead th {\n",
       "        text-align: right;\n",
       "    }\n",
       "</style>\n",
       "<table border=\"1\" class=\"dataframe\">\n",
       "  <thead>\n",
       "    <tr style=\"text-align: right;\">\n",
       "      <th></th>\n",
       "      <th>filename</th>\n",
       "      <th>neck</th>\n",
       "      <th>sleeve_length</th>\n",
       "      <th>pattern</th>\n",
       "    </tr>\n",
       "  </thead>\n",
       "  <tbody>\n",
       "  </tbody>\n",
       "</table>\n",
       "</div>"
      ],
      "text/plain": [
       "Empty DataFrame\n",
       "Columns: [filename, neck, sleeve_length, pattern]\n",
       "Index: []"
      ]
     },
     "execution_count": 15,
     "metadata": {},
     "output_type": "execute_result"
    }
   ],
   "source": [
    "df[df['neck'] != df['neck']].reset_index(drop=True)"
   ]
  },
  {
   "cell_type": "code",
   "execution_count": 16,
   "id": "1b16ba02-9101-42c3-9ff1-9aef53daf0b0",
   "metadata": {},
   "outputs": [
    {
     "data": {
      "text/plain": [
       "(300, 225, 3)"
      ]
     },
     "execution_count": 16,
     "metadata": {},
     "output_type": "execute_result"
    }
   ],
   "source": [
    "import cv2\n",
    "x = cv2.imread(os.path.join(img_src, '0117ff63-32ea-41b9-91ea-e0a1dc8013cb1527919734744-NA-831527919734624-3.jpg'))\n",
    "x.shape"
   ]
  },
  {
   "cell_type": "code",
   "execution_count": 17,
   "id": "6f66d81e-31bb-48eb-91f6-baa30c06e4ee",
   "metadata": {},
   "outputs": [],
   "source": [
    "import torch\n",
    "import pandas as pd\n",
    "import os\n",
    "import numpy as np\n",
    "from PIL import Image\n",
    "\n",
    "from torchvision import transforms\n",
    "from torch.utils.data import DataLoader\n",
    "from torch.utils.data.dataset import Dataset"
   ]
  },
  {
   "cell_type": "code",
   "execution_count": 18,
   "id": "f2ebb5c8-af82-4246-b879-59c9d59515ea",
   "metadata": {},
   "outputs": [],
   "source": [
    "class FashionDataset(Dataset):\n",
    "    def __init__(self):\n",
    "        super().__init__()\n",
    "        self.dataframe = df\n",
    "        self.to_tensor = transforms.ToTensor()\n",
    "        total_samples = len(self.dataframe)\n",
    "        self.idx_perm = np.arange(total_samples)\n",
    "    def __getitem__(self, index):\n",
    "        df_idx = self.idx_perm[index]\n",
    "        image_path = os.path.join(img_src, self.dataframe.filename[df_idx])\n",
    "        image = Image.open(image_path)\n",
    "        image = self.to_tensor(image)\n",
    "        return image\n",
    "    def __len__(self):\n",
    "        return len(self.idx_perm)"
   ]
  },
  {
   "cell_type": "code",
   "execution_count": null,
   "id": "cb878c8c-add8-4953-a382-5a4fa74afa77",
   "metadata": {},
   "outputs": [],
   "source": [
    "dataset = FashionDataset()\n",
    "loader = DataLoader(\n",
    "    dataset,\n",
    "    batch_size=10,\n",
    "    num_workers=1,\n",
    "    shuffle=False\n",
    ")\n",
    "\n",
    "\n",
    "mean = 0.\n",
    "std = 0.\n",
    "nb_samples = 0.\n",
    "for data in loader:\n",
    "    batch_samples = data.size(0)\n",
    "    data = data.view(batch_samples, data.size(1), -1)\n",
    "    mean += data.mean(2).sum(0)\n",
    "    std += data.std(2).sum(0)\n",
    "    nb_samples += batch_samples\n",
    "\n",
    "mean /= nb_samples\n",
    "std /= nb_samples"
   ]
  },
  {
   "cell_type": "code",
   "execution_count": null,
   "id": "91a371b8-199a-4c77-aa84-c59280b864ad",
   "metadata": {},
   "outputs": [],
   "source": [
    "mean"
   ]
  },
  {
   "cell_type": "code",
   "execution_count": null,
   "id": "c2db38a6-dc0f-4a13-b4b8-4089843afa9d",
   "metadata": {},
   "outputs": [],
   "source": [
    "std"
   ]
  },
  {
   "cell_type": "code",
   "execution_count": null,
   "id": "3bb6a806-d64b-4d69-8494-a0033888cba6",
   "metadata": {},
   "outputs": [],
   "source": []
  }
 ],
 "metadata": {
  "kernelspec": {
   "display_name": "Python 3 (ipykernel)",
   "language": "python",
   "name": "python3"
  },
  "language_info": {
   "codemirror_mode": {
    "name": "ipython",
    "version": 3
   },
   "file_extension": ".py",
   "mimetype": "text/x-python",
   "name": "python",
   "nbconvert_exporter": "python",
   "pygments_lexer": "ipython3",
   "version": "3.8.2"
  }
 },
 "nbformat": 4,
 "nbformat_minor": 5
}
